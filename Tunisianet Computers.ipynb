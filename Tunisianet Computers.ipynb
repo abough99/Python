{
 "cells": [
  {
   "cell_type": "markdown",
   "id": "eafe075f-5235-404f-8645-3312118e7360",
   "metadata": {},
   "source": [
    "# TUNSIANET PC DATA SCRAPING\n",
    "\n",
    "### Importing libraries\n",
    "\n",
    "The libraries needed:\n",
    "\n",
    "- Requests\n",
    "- BeautifulSoup\n",
    "- Pandas"
   ]
  },
  {
   "cell_type": "code",
   "execution_count": 1,
   "id": "4147ac03-d18f-468a-b4a3-be615eef8160",
   "metadata": {},
   "outputs": [],
   "source": [
    "import requests\n",
    "from bs4 import BeautifulSoup\n",
    "import pandas as pd"
   ]
  },
  {
   "cell_type": "markdown",
   "id": "5ffb24b7-5c8f-44d3-be51-5dc5aa2c9f64",
   "metadata": {},
   "source": [
    "### Creating the main columns as arrays"
   ]
  },
  {
   "cell_type": "code",
   "execution_count": 2,
   "id": "e4af18e0-5101-49f1-bcdf-069f18c58fb6",
   "metadata": {},
   "outputs": [],
   "source": [
    "products=[] \n",
    "prices=[] \n",
    "availability=[]"
   ]
  },
  {
   "cell_type": "markdown",
   "id": "68f6514f-79b5-4596-ae7b-43e390fde465",
   "metadata": {},
   "source": [
    "### Scraping the data from the Tunisianet website\n",
    "\n",
    "In order to scrape all the PC data from the website, it is necessary to do so from all the different pages. For that purpose it is necessary to work with an for statement that allows us to change the URL and thus the page. Within the for statement, we must categorize the HTML data into their respective elements, which is why there is another for within the first one.\n",
    "We then place those elements inside each of the arrays."
   ]
  },
  {
   "cell_type": "code",
   "execution_count": 3,
   "id": "7dc135aa-b1bb-46a1-a4e1-a12e1a317a4b",
   "metadata": {},
   "outputs": [],
   "source": [
    "for i in range(1, 29):\n",
    "    URL = \"https://www.tunisianet.com.tn/702-ordinateur-portable?page=\" + str(i) + \"&order=product.price.desc\"\n",
    "    page = requests.get(URL)\n",
    "\n",
    "    soup = BeautifulSoup(page.content, \"html.parser\")\n",
    "\n",
    "    results = soup.find(id=\"js-product-list\")\n",
    "\n",
    "    product_elements = results.find_all(\"div\", class_=\"item-product col-xs-12\")\n",
    "\n",
    "    for product_element in product_elements:\n",
    "        name_element = product_element.find(\"h2\", class_=\"h3 product-title\")\n",
    "        price_element = product_element.find(\"span\", class_=\"price\")\n",
    "        avail_element = product_element.find(\"div\", id=\"stock_availability\")\n",
    "        products.append(name_element.text.strip())\n",
    "        prices.append(price_element.text.strip())\n",
    "        availability.append(avail_element.text.strip())"
   ]
  },
  {
   "cell_type": "markdown",
   "id": "6e1ae9d5-f64f-445d-92c4-967ad76f8029",
   "metadata": {},
   "source": [
    "### Creating the data frame"
   ]
  },
  {
   "cell_type": "code",
   "execution_count": 4,
   "id": "a45eea8c-210a-4c04-9dae-2362219b9015",
   "metadata": {},
   "outputs": [],
   "source": [
    "df = pd.DataFrame({'Product Name':products,'Price':prices, 'Availability':availability}) "
   ]
  },
  {
   "cell_type": "markdown",
   "id": "c492986f-cdad-4419-aaaf-a136de3bec24",
   "metadata": {},
   "source": [
    "# Data Cleaning Process\n",
    "\n",
    "### Removing \"PC Portable\" from the name\n",
    "\n",
    "I noticed that \"PC Portable\" is repeated in most of the products except for gaming laptops, so I decided to remove it from the name column considering it adds no info"
   ]
  },
  {
   "cell_type": "code",
   "execution_count": 5,
   "id": "7187c267-9ca3-46f4-9e3d-94f7bef5852c",
   "metadata": {},
   "outputs": [],
   "source": [
    "df[\"Product Name\"] = df[\"Product Name\"].str.replace(\"(?i)PC Portable\",\"\", regex=True)"
   ]
  },
  {
   "cell_type": "markdown",
   "id": "0b077181-ae4d-4b33-a91e-b2e0b71469ec",
   "metadata": {},
   "source": [
    "### Removing extra spcaes"
   ]
  },
  {
   "cell_type": "code",
   "execution_count": 6,
   "id": "f66635c6-29ea-403b-b215-e2f7eea01b43",
   "metadata": {},
   "outputs": [],
   "source": [
    "df[\"Product Name\"] = df[\"Product Name\"].str.strip()"
   ]
  },
  {
   "cell_type": "markdown",
   "id": "25a78404-d779-47ce-9b75-1fc7b65f6478",
   "metadata": {},
   "source": [
    "### Changing the \",\" to \".\" in the price column\n",
    "\n",
    "For future calculations, it's only possible to work with integers if we use the \".\"\n",
    "\n",
    "We check what our table looks like with .head"
   ]
  },
  {
   "cell_type": "code",
   "execution_count": 7,
   "id": "c0bc7ef7-73cd-4044-8aa0-66baf2d3b4d8",
   "metadata": {},
   "outputs": [
    {
     "data": {
      "text/html": [
       "<div>\n",
       "<style scoped>\n",
       "    .dataframe tbody tr th:only-of-type {\n",
       "        vertical-align: middle;\n",
       "    }\n",
       "\n",
       "    .dataframe tbody tr th {\n",
       "        vertical-align: top;\n",
       "    }\n",
       "\n",
       "    .dataframe thead th {\n",
       "        text-align: right;\n",
       "    }\n",
       "</style>\n",
       "<table border=\"1\" class=\"dataframe\">\n",
       "  <thead>\n",
       "    <tr style=\"text-align: right;\">\n",
       "      <th></th>\n",
       "      <th>Product Name</th>\n",
       "      <th>Price</th>\n",
       "      <th>Availability</th>\n",
       "    </tr>\n",
       "  </thead>\n",
       "  <tbody>\n",
       "    <tr>\n",
       "      <th>0</th>\n",
       "      <td>Station de travail Mobile Dell Precision 5560 ...</td>\n",
       "      <td>11 179.000 DT</td>\n",
       "      <td>Sur commande</td>\n",
       "    </tr>\n",
       "    <tr>\n",
       "      <th>1</th>\n",
       "      <td>Lenovo ThinkPad X1 Extreme / i7-11800H / RTX 3...</td>\n",
       "      <td>10 419.000 DT</td>\n",
       "      <td>Sur commande</td>\n",
       "    </tr>\n",
       "    <tr>\n",
       "      <th>2</th>\n",
       "      <td>MSI CreatorPro M16 / i7 12é Gen / RTX A3000 12...</td>\n",
       "      <td>9 975.000 DT</td>\n",
       "      <td>Sur commande</td>\n",
       "    </tr>\n",
       "    <tr>\n",
       "      <th>3</th>\n",
       "      <td>MSI Gaming GF63 Thin 11SC / i7 11è Gén / 16 Go...</td>\n",
       "      <td>9 514.000 DT</td>\n",
       "      <td>En stock</td>\n",
       "    </tr>\n",
       "    <tr>\n",
       "      <th>4</th>\n",
       "      <td>ASUS ROG ZEPHYUS DUO 16 GX650RW-LS052W / Ryzen...</td>\n",
       "      <td>9 399.000 DT</td>\n",
       "      <td>Sur commande</td>\n",
       "    </tr>\n",
       "  </tbody>\n",
       "</table>\n",
       "</div>"
      ],
      "text/plain": [
       "                                        Product Name          Price  \\\n",
       "0  Station de travail Mobile Dell Precision 5560 ...  11 179.000 DT   \n",
       "1  Lenovo ThinkPad X1 Extreme / i7-11800H / RTX 3...  10 419.000 DT   \n",
       "2  MSI CreatorPro M16 / i7 12é Gen / RTX A3000 12...   9 975.000 DT   \n",
       "3  MSI Gaming GF63 Thin 11SC / i7 11è Gén / 16 Go...   9 514.000 DT   \n",
       "4  ASUS ROG ZEPHYUS DUO 16 GX650RW-LS052W / Ryzen...   9 399.000 DT   \n",
       "\n",
       "   Availability  \n",
       "0  Sur commande  \n",
       "1  Sur commande  \n",
       "2  Sur commande  \n",
       "3      En stock  \n",
       "4  Sur commande  "
      ]
     },
     "execution_count": 7,
     "metadata": {},
     "output_type": "execute_result"
    }
   ],
   "source": [
    "df[\"Price\"] = df[\"Price\"].str.replace(\",\",\".\")\n",
    "df.head(5)"
   ]
  },
  {
   "cell_type": "markdown",
   "id": "4f997be4-5916-4da9-a1ab-59dac49f7b16",
   "metadata": {},
   "source": [
    "### Separating the name column\n",
    "\n",
    "The name column included all of the information about the laptop, such as the size and brand name, so I'm going to attempt to separate that info into different columns.\n",
    "\n",
    "The most common brands are 'ACER', 'APPLE', 'ASUS', 'DELL', 'HP', 'HUAWEI', 'INFINIX', 'LENOVO', and 'MSI' so we will be extracting those.\n",
    "\n",
    "The most common RAM sizes are ' 2 GO', ' 4 GO', ' 6 GO', ' 8 GO', ' 12 GO', ' 14 GO', ' 16 GO', ' 18 GO', ' 20 GO', ' 24 GO', ' 26 GO',' 28 GO', ' 30 GO', ' 32 GO', ' 34 GO', and ' 36 GO'\n",
    "\n",
    "It is important that the format used in the array that incldues all the data match that of the website. For example, the Tunisianet website specifically reffers to sizes as \"Size Go\", so working with \"Size\" or \"Size G\" would not work.\n",
    "\n",
    "I also put all of the letters in uppercase to make sure everything is in the same format."
   ]
  },
  {
   "cell_type": "code",
   "execution_count": 8,
   "id": "76d34de2-65bf-4685-915b-9ad87a0dbf6e",
   "metadata": {},
   "outputs": [],
   "source": [
    "brandsa = ['ACER', 'APPLE', 'ASUS', 'DELL', 'HP', 'HUAWEI', 'INFINIX', 'LENOVO', 'MSI']\n",
    "brands = []\n",
    "rama = [' 2 GO', ' 4 GO', ' 6 GO', ' 8 GO', ' 12 GO', ' 14 GO', ' 16 GO', ' 18 GO', ' 20 GO', ' 24 GO', ' 26 GO',' 28 GO', ' 30 GO', ' 32 GO', ' 34 GO', ' 36 GO']\n",
    "ram = []\n",
    "check = False\n",
    "products = df[\"Product Name\"].values.tolist() ## Turn into an array\n",
    "\n",
    "for i in range(len(products)):\n",
    "\n",
    "    # Brand\n",
    "    for j in range(len(brandsa)):\n",
    "        if brandsa[j] in products[i].upper():\n",
    "            brands.append(brandsa[j])\n",
    "            check = True\n",
    "    if check == False:\n",
    "        brands.append(\"\")\n",
    "    check = False\n",
    "    \n",
    "    ## RAM\n",
    "    for j in range(len(rama)):\n",
    "        if rama[j] in products[i].upper():\n",
    "            ram.append(rama[j])\n",
    "            check = True\n",
    "    if check == False:\n",
    "        ram.append(\"\")\n",
    "    check = False\n",
    "\n",
    "    \n",
    "## Putting the arrays brands and size into the df\n",
    "df[\"Brands\"] = brands\n",
    "df[\"RAM\"] = ram"
   ]
  },
  {
   "cell_type": "markdown",
   "id": "676e2400-fcb3-4d87-bffa-2c758c093273",
   "metadata": {},
   "source": [
    "### Cleaning the name from all the brands and sizes, as well as any extra characters"
   ]
  },
  {
   "cell_type": "code",
   "execution_count": 9,
   "id": "027c7799-a8a0-460b-9b94-6b860783c4ca",
   "metadata": {},
   "outputs": [],
   "source": [
    "for i in range(len(brandsa)):\n",
    "    df[\"Product Name\"] = df[\"Product Name\"].str.replace(brandsa[i],\"\", regex=True, case=False)\n",
    "for i in range(len(rama)):\n",
    "    df[\"Product Name\"] = df[\"Product Name\"].str.replace(rama[i],\"\", regex=True, case=False)\n",
    "df[\"Product Name\"] = df[\"Product Name\"].str.replace(\"/ /\",\"/\", regex=True, case=False)"
   ]
  },
  {
   "cell_type": "markdown",
   "id": "0c7c2a18-375a-4e23-8cd2-6a73ac3383df",
   "metadata": {},
   "source": [
    "## Final Result"
   ]
  },
  {
   "cell_type": "code",
   "execution_count": 10,
   "id": "7146a973-5aa7-4e46-ad0d-7111e87b54f8",
   "metadata": {},
   "outputs": [
    {
     "data": {
      "text/html": [
       "<div>\n",
       "<style scoped>\n",
       "    .dataframe tbody tr th:only-of-type {\n",
       "        vertical-align: middle;\n",
       "    }\n",
       "\n",
       "    .dataframe tbody tr th {\n",
       "        vertical-align: top;\n",
       "    }\n",
       "\n",
       "    .dataframe thead th {\n",
       "        text-align: right;\n",
       "    }\n",
       "</style>\n",
       "<table border=\"1\" class=\"dataframe\">\n",
       "  <thead>\n",
       "    <tr style=\"text-align: right;\">\n",
       "      <th></th>\n",
       "      <th>Product Name</th>\n",
       "      <th>Price</th>\n",
       "      <th>Availability</th>\n",
       "      <th>Brands</th>\n",
       "      <th>RAM</th>\n",
       "    </tr>\n",
       "  </thead>\n",
       "  <tbody>\n",
       "    <tr>\n",
       "      <th>0</th>\n",
       "      <td>Station de travail Mobile  Precision 5560 Tact...</td>\n",
       "      <td>11 179.000 DT</td>\n",
       "      <td>Sur commande</td>\n",
       "      <td>DELL</td>\n",
       "      <td>32 GO</td>\n",
       "    </tr>\n",
       "    <tr>\n",
       "      <th>1</th>\n",
       "      <td>ThinkPad X1 Extreme / i7-11800H / RTX 3060 6G...</td>\n",
       "      <td>10 419.000 DT</td>\n",
       "      <td>Sur commande</td>\n",
       "      <td>LENOVO</td>\n",
       "      <td>32 GO</td>\n",
       "    </tr>\n",
       "    <tr>\n",
       "      <th>2</th>\n",
       "      <td>CreatorPro M16 / i7 12é Gen / RTX A3000 12G /</td>\n",
       "      <td>9 975.000 DT</td>\n",
       "      <td>Sur commande</td>\n",
       "      <td>MSI</td>\n",
       "      <td>32 GO</td>\n",
       "    </tr>\n",
       "    <tr>\n",
       "      <th>3</th>\n",
       "      <td>Gaming GF63 Thin 11SC / i7 11è Gén / GTX 1650 4G</td>\n",
       "      <td>9 514.000 DT</td>\n",
       "      <td>En stock</td>\n",
       "      <td>MSI</td>\n",
       "      <td>16 GO</td>\n",
       "    </tr>\n",
       "    <tr>\n",
       "      <th>4</th>\n",
       "      <td>ROG ZEPHYUS DUO 16 GX650RW-LS052W / Ryzen R7 ...</td>\n",
       "      <td>9 399.000 DT</td>\n",
       "      <td>Sur commande</td>\n",
       "      <td>ASUS</td>\n",
       "      <td></td>\n",
       "    </tr>\n",
       "  </tbody>\n",
       "</table>\n",
       "</div>"
      ],
      "text/plain": [
       "                                        Product Name          Price  \\\n",
       "0  Station de travail Mobile  Precision 5560 Tact...  11 179.000 DT   \n",
       "1   ThinkPad X1 Extreme / i7-11800H / RTX 3060 6G...  10 419.000 DT   \n",
       "2      CreatorPro M16 / i7 12é Gen / RTX A3000 12G /   9 975.000 DT   \n",
       "3   Gaming GF63 Thin 11SC / i7 11è Gén / GTX 1650 4G   9 514.000 DT   \n",
       "4   ROG ZEPHYUS DUO 16 GX650RW-LS052W / Ryzen R7 ...   9 399.000 DT   \n",
       "\n",
       "   Availability  Brands     RAM  \n",
       "0  Sur commande    DELL   32 GO  \n",
       "1  Sur commande  LENOVO   32 GO  \n",
       "2  Sur commande     MSI   32 GO  \n",
       "3      En stock     MSI   16 GO  \n",
       "4  Sur commande    ASUS          "
      ]
     },
     "execution_count": 10,
     "metadata": {},
     "output_type": "execute_result"
    }
   ],
   "source": [
    "df.head(5)"
   ]
  },
  {
   "cell_type": "markdown",
   "id": "78a1f396-0847-48f8-a34b-60067934be78",
   "metadata": {},
   "source": [
    "### Exporting as a CSV file"
   ]
  },
  {
   "cell_type": "code",
   "execution_count": 11,
   "id": "25ebcd1b-43c9-4208-94ab-7bdcc92fce05",
   "metadata": {},
   "outputs": [],
   "source": [
    "df.to_csv('Tunisianet Computers.csv', index=False, encoding='utf-8')"
   ]
  }
 ],
 "metadata": {
  "kernelspec": {
   "display_name": "Python 3 (ipykernel)",
   "language": "python",
   "name": "python3"
  },
  "language_info": {
   "codemirror_mode": {
    "name": "ipython",
    "version": 3
   },
   "file_extension": ".py",
   "mimetype": "text/x-python",
   "name": "python",
   "nbconvert_exporter": "python",
   "pygments_lexer": "ipython3",
   "version": "3.9.13"
  }
 },
 "nbformat": 4,
 "nbformat_minor": 5
}
